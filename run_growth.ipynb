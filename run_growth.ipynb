{
 "cells": [
  {
   "cell_type": "code",
   "execution_count": 1,
   "id": "79ade0a7",
   "metadata": {},
   "outputs": [
    {
     "name": "stdout",
     "output_type": "stream",
     "text": [
      "Importing core modules\n",
      " Using computational backend numpy on cpu\n",
      " Runtime settings are now locked\n",
      "\n"
     ]
    }
   ],
   "source": [
    "from veros import veros_routine\n",
    "from veris.growth import Growth\n",
    "from initialize_growth import state"
   ]
  },
  {
   "cell_type": "code",
   "execution_count": 2,
   "id": "b18ca18a",
   "metadata": {},
   "outputs": [],
   "source": [
    "@veros_routine\n",
    "def run_growth(state):\n",
    "    vs = state.variables\n",
    "    \n",
    "    (\n",
    "        vs.hIceMean,\n",
    "        vs.hSnowMean,\n",
    "        vs.Area,\n",
    "        vs.TSurf,\n",
    "        vs.EmPmR,\n",
    "        _, #vs.forc_salt_surface,\n",
    "        vs.Qsw,\n",
    "        vs.Qnet,\n",
    "        vs.SeaIceLoad,\n",
    "        vs.IcePenetSW,\n",
    "        vs.recip_hIceMean,\n",
    "    ) = Growth(state)"
   ]
  },
  {
   "cell_type": "code",
   "execution_count": 3,
   "id": "1322f4da",
   "metadata": {},
   "outputs": [],
   "source": [
    "for n_timesteps in range(100):\n",
    "    run_growth(state)"
   ]
  },
  {
   "cell_type": "code",
   "execution_count": 4,
   "id": "4d582d02",
   "metadata": {},
   "outputs": [
    {
     "data": {
      "text/plain": [
       "np.float64(0.42838200180231584)"
      ]
     },
     "execution_count": 4,
     "metadata": {},
     "output_type": "execute_result"
    }
   ],
   "source": [
    "vs = state.variables\n",
    "\n",
    "vs.hIceMean[0,0]"
   ]
  },
  {
   "cell_type": "code",
   "execution_count": null,
   "id": "550c1861",
   "metadata": {},
   "outputs": [],
   "source": []
  }
 ],
 "metadata": {
  "kernelspec": {
   "display_name": "veros",
   "language": "python",
   "name": "python3"
  },
  "language_info": {
   "codemirror_mode": {
    "name": "ipython",
    "version": 3
   },
   "file_extension": ".py",
   "mimetype": "text/x-python",
   "name": "python",
   "nbconvert_exporter": "python",
   "pygments_lexer": "ipython3",
   "version": "3.12.11"
  }
 },
 "nbformat": 4,
 "nbformat_minor": 5
}
